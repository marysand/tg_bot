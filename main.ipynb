{
 "cells": [
  {
   "cell_type": "code",
   "execution_count": 86,
   "metadata": {
    "collapsed": true
   },
   "outputs": [
    {
     "name": "stdout",
     "output_type": "stream",
     "text": [
      "Requirement already satisfied: pyTelegramBotAPI in /Users/mashenka/opt/anaconda3/lib/python3.7/site-packages (3.7.1)\n",
      "Requirement already satisfied: requests in /Users/mashenka/opt/anaconda3/lib/python3.7/site-packages (from pyTelegramBotAPI) (2.22.0)\n",
      "Requirement already satisfied: six in /Users/mashenka/opt/anaconda3/lib/python3.7/site-packages (from pyTelegramBotAPI) (1.14.0)\n",
      "Requirement already satisfied: urllib3!=1.25.0,!=1.25.1,<1.26,>=1.21.1 in /Users/mashenka/opt/anaconda3/lib/python3.7/site-packages (from requests->pyTelegramBotAPI) (1.25.8)\n",
      "Requirement already satisfied: chardet<3.1.0,>=3.0.2 in /Users/mashenka/opt/anaconda3/lib/python3.7/site-packages (from requests->pyTelegramBotAPI) (3.0.4)\n",
      "Requirement already satisfied: certifi>=2017.4.17 in /Users/mashenka/opt/anaconda3/lib/python3.7/site-packages (from requests->pyTelegramBotAPI) (2019.11.28)\n",
      "Requirement already satisfied: idna<2.9,>=2.5 in /Users/mashenka/opt/anaconda3/lib/python3.7/site-packages (from requests->pyTelegramBotAPI) (2.8)\n"
     ]
    }
   ],
   "source": [
    "!pip install pyTelegramBotAPI\n",
    "\n",
    "!pip install python-telegram-bot[socks]\n",
    "\n",
    "!pip install markovify"
   ]
  },
  {
   "cell_type": "code",
   "execution_count": 19,
   "metadata": {},
   "outputs": [],
   "source": [
    "import pandas as pd\n",
    "import requests \n",
    "import markovify\n",
    "import random\n",
    "import json\n",
    "import csv\n",
    "from pprint import pprint\n",
    "import telebot  \n",
    "import conf "
   ]
  },
  {
   "cell_type": "code",
   "execution_count": null,
   "metadata": {},
   "outputs": [],
   "source": []
  },
  {
   "cell_type": "code",
   "execution_count": null,
   "metadata": {},
   "outputs": [],
   "source": [
    "#настраиваем данные для вывода предложения машины"
   ]
  },
  {
   "cell_type": "code",
   "execution_count": 488,
   "metadata": {
    "scrolled": false
   },
   "outputs": [],
   "source": [
    "provs = pd.read_csv('dal_proverbs.csv', sep='\\t', encoding='utf-8')"
   ]
  },
  {
   "cell_type": "code",
   "execution_count": 489,
   "metadata": {},
   "outputs": [],
   "source": [
    "shuffled = provs.sample(frac=1)\n",
    "train = ' '.join(shuffled.proverb)"
   ]
  },
  {
   "cell_type": "code",
   "execution_count": 490,
   "metadata": {},
   "outputs": [],
   "source": [
    "m = markovify.Text(train)"
   ]
  },
  {
   "cell_type": "code",
   "execution_count": null,
   "metadata": {},
   "outputs": [],
   "source": []
  },
  {
   "cell_type": "code",
   "execution_count": null,
   "metadata": {},
   "outputs": [],
   "source": [
    "#настраиваем данные с городами"
   ]
  },
  {
   "cell_type": "code",
   "execution_count": 491,
   "metadata": {},
   "outputs": [],
   "source": [
    "city_data = {\"А\" : []}"
   ]
  },
  {
   "cell_type": "code",
   "execution_count": 492,
   "metadata": {},
   "outputs": [],
   "source": [
    "for i in cities[\"city\"]:\n",
    "    name = i['name']\n",
    "    city_data[name[0]] = []"
   ]
  },
  {
   "cell_type": "code",
   "execution_count": 493,
   "metadata": {},
   "outputs": [],
   "source": [
    "for i in cities[\"city\"]:\n",
    "    name = i['name']\n",
    "    city_data[name[0]].append(name)"
   ]
  },
  {
   "cell_type": "code",
   "execution_count": 494,
   "metadata": {},
   "outputs": [],
   "source": [
    "with open(\"/Users/mashenka/Documents/TG_Bot/cities.json\") as file:\n",
    "    cities = json.load(file)"
   ]
  },
  {
   "cell_type": "code",
   "execution_count": null,
   "metadata": {},
   "outputs": [],
   "source": []
  },
  {
   "cell_type": "code",
   "execution_count": 496,
   "metadata": {},
   "outputs": [],
   "source": [
    "#Загружаем и редактируем данные предложений Геймана"
   ]
  },
  {
   "cell_type": "code",
   "execution_count": 497,
   "metadata": {},
   "outputs": [],
   "source": [
    "with open('Nil_Geyman_texty.txt') as f:\n",
    "    geyman_file = f.read().split('.')\n"
   ]
  },
  {
   "cell_type": "code",
   "execution_count": 498,
   "metadata": {},
   "outputs": [],
   "source": [
    "for i in geyman_file:\n",
    "    if i != '':\n",
    "        if not i[0].isalpha():\n",
    "            geyman_file.pop(i.index(i))\n",
    "    else:\n",
    "        geyman_file.pop(i.index(i))"
   ]
  },
  {
   "cell_type": "code",
   "execution_count": null,
   "metadata": {},
   "outputs": [],
   "source": []
  },
  {
   "cell_type": "code",
   "execution_count": null,
   "metadata": {},
   "outputs": [],
   "source": [
    "#подготавливаем глобавльные переменные"
   ]
  },
  {
   "cell_type": "code",
   "execution_count": 499,
   "metadata": {},
   "outputs": [],
   "source": [
    "data_users = {}\n",
    "data_users_cities = {}\n",
    "car_or_person = 0"
   ]
  },
  {
   "cell_type": "code",
   "execution_count": 500,
   "metadata": {},
   "outputs": [],
   "source": [
    "telebot.apihelper.proxy = conf.PROXY\n",
    "bot = telebot.TeleBot(conf.TOKEN)  # создаем экземпляр бота"
   ]
  },
  {
   "cell_type": "code",
   "execution_count": 502,
   "metadata": {},
   "outputs": [],
   "source": [
    "@bot.message_handler(commands=['start'])\n",
    "def send_welcome(message):\n",
    "    global data_users\n",
    "    global data_users_cities\n",
    "    global city_data\n",
    "    data_users_cities[message.chat.id] = city_data\n",
    "    data_users[message.chat.id] = 0\n",
    "    bot.send_message(message.chat.id, \"Здравствуйте! Хотите поиграть?\")\n",
    "    bot.send_message(message.chat.id, \"/yes /no\")\n",
    "    "
   ]
  },
  {
   "cell_type": "code",
   "execution_count": 503,
   "metadata": {},
   "outputs": [],
   "source": [
    "@bot.message_handler(commands=['help'])\n",
    "def send_welcome(message):\n",
    "    bot.send_message(message.chat.id, \"Это бот с разными играми? Хотите поиграть? \\n Нажмите /start или /play\")"
   ]
  },
  {
   "cell_type": "code",
   "execution_count": 504,
   "metadata": {},
   "outputs": [],
   "source": [
    "@bot.message_handler(commands=['yes', 'play'])\n",
    "def games_message(message):\n",
    "    global data_users\n",
    "    in_game = data_users[message.chat.id]\n",
    "    if in_game == 0:\n",
    "        bot.send_message(message.chat.id, \"Выберите игру: \\n /goroda \\n /ugaday_mashina_ili_chelovek\")\n",
    "        data_users[message.chat.id] = 1\n",
    "    else:\n",
    "        \n",
    "        bot.send_message(message.chat.id, \"Вы уже играете\")"
   ]
  },
  {
   "cell_type": "code",
   "execution_count": 505,
   "metadata": {},
   "outputs": [],
   "source": [
    "@bot.message_handler(commands=['no'])\n",
    "def games_message(message):\n",
    "    global data_users\n",
    "    in_game = data_users[message.chat.id]\n",
    "    if in_game == 0:\n",
    "        bot.send_message(message.chat.id, \"Вы больше не играете :(\")\n",
    "    else:\n",
    "        data_users[message.chat.id] = 0\n",
    "    bot.send_message(message.chat.id, \"Вот вам картинка \")\n",
    "    contents = requests.get('https://random.dog/woof.json').json()\n",
    "    url = contents['url']\n",
    "    bot.send_photo(chat_id=message.chat.id, photo=url)\n",
    "    bot.send_message(message.chat.id, \"Хотите поиграть? \\n /yes /no\")"
   ]
  },
  {
   "cell_type": "code",
   "execution_count": 506,
   "metadata": {},
   "outputs": [],
   "source": [
    "@bot.message_handler(commands=['ugaday_mashina_ili_chelovek'])\n",
    "def game_guess_car_or_person(message):\n",
    "    global data_users\n",
    "    global geyman_file\n",
    "    in_game = data_users[message.chat.id]\n",
    "    if in_game == 0:\n",
    "        bot.send_message(message.chat.id, \"Вы не играете в игру\")\n",
    "    else:\n",
    "        bot.send_message(message.chat.id, \"Угадай, кто автор предложения: машина или Гейман?\")\n",
    "        choose = random.randint(1, 2)\n",
    "        if choose == 1: #1 - это значит мы выводим предложение Геймана\n",
    "            random_sentence = random.randint(0, len(geyman_file))\n",
    "            bot.send_message(message.chat.id, geyman_file[random_sentence])\n",
    "            \n",
    "        else: #выводим сообщение машины\n",
    "            bot.send_message(message.chat.id, m.make_short_sentence(100))\n",
    "        bot.send_message(message.chat.id, \"/mashina /Geyman\")\n",
    "    \n",
    "        global mashina_ili_chelovek\n",
    "        global send_message_computer_or_person\n",
    "        send_message_computer_or_person = 1\n",
    "        mashina_ili_chelovek = choose\n"
   ]
  },
  {
   "cell_type": "code",
   "execution_count": 507,
   "metadata": {},
   "outputs": [],
   "source": [
    "@bot.message_handler(commands=['mashina'])\n",
    "def game_guess_car_or_person_answer_car(message):\n",
    "    global mashina_ili_chelovek\n",
    "    global data_users\n",
    "    in_game = data_users[message.chat.id]\n",
    "    if send_message_computer_or_person == 1:\n",
    "        choice = mashina_ili_chelovek\n",
    "        if choice == 1:\n",
    "            bot.send_message(message.chat.id, \"Вы не угадали(\")\n",
    "        else:\n",
    "            bot.send_message(message.chat.id, \"Ура!Вы угадали!\")\n",
    "        data_users[message.chat.id] = 0\n",
    "        bot.send_message(message.chat.id, \"Хотите сыграть еще раз? \\n /yes /no\")\n",
    "        \n",
    "    else:\n",
    "        bot.send_message(message.chat.id, \"Вы не играете в игру\")\n",
    "        "
   ]
  },
  {
   "cell_type": "code",
   "execution_count": 508,
   "metadata": {},
   "outputs": [],
   "source": [
    "@bot.message_handler(commands=['Geyman'])\n",
    "def game_guess_car_or_person_answer_person(message):\n",
    "    global mashina_ili_chelovek\n",
    "    global data_users\n",
    "    in_game = data_users[message.chat.id]\n",
    "    if send_message_computer_or_person == 1:\n",
    "        choice = mashina_ili_chelovek\n",
    "        if choice == 2:\n",
    "            bot.send_message(message.chat.id, \"Вы не угадали(\")\n",
    "        else:\n",
    "            bot.send_message(message.chat.id, \"Ура!Вы угадали!\")\n",
    "        data_users[message.chat.id] = 0\n",
    "        bot.send_message(message.chat.id, \"Хотите сыграть еще раз? \\n /yes /no\")\n",
    "    else:\n",
    "        bot.send_message(message.chat.id, \"Вы не играете в игру\")\n",
    "    "
   ]
  },
  {
   "cell_type": "code",
   "execution_count": 509,
   "metadata": {},
   "outputs": [],
   "source": [
    "@bot.message_handler(commands=['goroda'])\n",
    "def game_cows_and_bulls(message):\n",
    "    global data_users\n",
    "    in_game = data_users[message.chat.id]\n",
    "    if in_game == 0:\n",
    "        bot.send_message(message.chat.id, \"Вы не играете в игру\")\n",
    "    else:\n",
    "        data_users[message.chat.id] = 2\n",
    "        bot.send_message(message.chat.id, 'Напишите город с большой буквы')\n",
    "        bot.send_message(message.chat.id, 'Если захотите закончить, напишите стоп')\n",
    "        \n",
    "        "
   ]
  },
  {
   "cell_type": "code",
   "execution_count": null,
   "metadata": {},
   "outputs": [],
   "source": []
  },
  {
   "cell_type": "code",
   "execution_count": 510,
   "metadata": {},
   "outputs": [],
   "source": [
    "@bot.message_handler(func=lambda m: True)\n",
    "def send_len(message):\n",
    "    global data_users\n",
    "    global data_users_cities\n",
    "    global city_data\n",
    "    user_city_data = data_users_cities[message.chat.id]\n",
    "    in_game = data_users[message.chat.id]\n",
    "    \n",
    "    if in_game == 0:\n",
    "        bot.send_message(message.chat.id, \"Здравствуйте! Я еще не умею общаться(( Хотите сыграть в игру?\\n/yes /no\")\n",
    "        \n",
    "        \n",
    "    elif in_game == 2:\n",
    "        \n",
    "        user_city = str(message.text)\n",
    "        \n",
    "        if str(message.text) == 'стоп':\n",
    "            data_users[message.chat.id] = 0\n",
    "            bot.send_message(message.chat.id, 'Спасибо за игру')\n",
    "            bot.send_message(message.chat.id, 'Хотите сыграть еще раз? /yes /no')\n",
    "            data_users_cities[message.chat.id] = city_data\n",
    " \n",
    "            \n",
    "        else:\n",
    "            if (user_city[0] in user_city_data) and (user_city in user_city_data[user_city[0]]):\n",
    "                random_city = 0\n",
    "                number = user_city_data[user_city[0]].index(user_city)\n",
    "                \n",
    "                user_city_data[number] = ''\n",
    "                letter_for_computer_city = (user_city[len(user_city)-1]).upper()\n",
    "                \n",
    "                while user_city_data[letter_for_computer_city][random_city] == '':\n",
    "                    random_city = random.randint(0, len(user_city_data[letter_for_computer_city])-1)\n",
    "                \n",
    "                bot.send_message(message.chat.id, user_city_data[letter_for_computer_city][random_city])\n",
    "                user_city_data[letter_for_computer_city][random_city] = 1\n",
    "                data_users_cities[message.chat.id] = user_city_data\n",
    "                \n",
    "            else:\n",
    "                bot.send_message(message.chat.id, 'Вы ввели не город или ввели с маленькой буквы, попробуйте еще раз')\n",
    "            \n",
    "            bot.send_message(message.chat.id, 'Если захотите закончить, напишите стоп')\n",
    "            \n",
    "            \n",
    "            \n",
    "    elif in_game == 1:\n",
    "        if str(message.text) == 'стоп':\n",
    "            data_users[message.chat.id] = 0\n",
    "            bot.send_message(message.chat.id, 'Спасибо за игру')\n",
    "            bot.send_message(message.chat.id, 'Хотите сыграть еще раз? /yes /no')\n",
    "            "
   ]
  },
  {
   "cell_type": "code",
   "execution_count": null,
   "metadata": {},
   "outputs": [],
   "source": []
  },
  {
   "cell_type": "code",
   "execution_count": null,
   "metadata": {},
   "outputs": [
    {
     "name": "stderr",
     "output_type": "stream",
     "text": [
      "2020-06-07 23:44:50,667 (util.py:68 WorkerThread53) ERROR - TeleBot: \"ApiException occurred, args=('A request to the Telegram API was unsuccessful. The server returned HTTP 400 Bad Request. Response body:\\n[b\\'{\"ok\":false,\"error_code\":400,\"description\":\"Bad Request: message text is empty\"}\\']',)\n",
      "Traceback (most recent call last):\n",
      "  File \"/Users/mashenka/opt/anaconda3/lib/python3.7/site-packages/telebot/util.py\", line 62, in run\n",
      "    task(*args, **kwargs)\n",
      "  File \"<ipython-input-506-6c41deae9244>\", line 13, in game_guess_car_or_person\n",
      "    bot.send_message(message.chat.id, geyman_file[random_sentence])\n",
      "  File \"/Users/mashenka/opt/anaconda3/lib/python3.7/site-packages/telebot/__init__.py\", line 625, in send_message\n",
      "    reply_markup, parse_mode, disable_notification, timeout))\n",
      "  File \"/Users/mashenka/opt/anaconda3/lib/python3.7/site-packages/telebot/apihelper.py\", line 159, in send_message\n",
      "    return _make_request(token, method_url, params=payload, method='post')\n",
      "  File \"/Users/mashenka/opt/anaconda3/lib/python3.7/site-packages/telebot/apihelper.py\", line 65, in _make_request\n",
      "    return _check_result(method_name, result)['result']\n",
      "  File \"/Users/mashenka/opt/anaconda3/lib/python3.7/site-packages/telebot/apihelper.py\", line 84, in _check_result\n",
      "    raise ApiException(msg, method_name, result)\n",
      "telebot.apihelper.ApiException: A request to the Telegram API was unsuccessful. The server returned HTTP 400 Bad Request. Response body:\n",
      "[b'{\"ok\":false,\"error_code\":400,\"description\":\"Bad Request: message text is empty\"}']\n",
      "\"\n",
      "2020-06-07 23:44:50,669 (__init__.py:443 MainThread) ERROR - TeleBot: \"A request to the Telegram API was unsuccessful. The server returned HTTP 400 Bad Request. Response body:\n",
      "[b'{\"ok\":false,\"error_code\":400,\"description\":\"Bad Request: message text is empty\"}']\"\n"
     ]
    }
   ],
   "source": [
    "bot.polling(none_stop=True)"
   ]
  },
  {
   "cell_type": "code",
   "execution_count": null,
   "metadata": {},
   "outputs": [],
   "source": []
  },
  {
   "cell_type": "code",
   "execution_count": 6,
   "metadata": {
    "collapsed": true
   },
   "outputs": [
    {
     "name": "stdout",
     "output_type": "stream",
     "text": [
      "Requirement already satisfied: python-telegram-bot[socks] in /Users/mashenka/opt/anaconda3/lib/python3.7/site-packages (12.7)\n",
      "Requirement already satisfied: cryptography in /Users/mashenka/opt/anaconda3/lib/python3.7/site-packages (from python-telegram-bot[socks]) (2.8)\n",
      "Requirement already satisfied: tornado>=5.1 in /Users/mashenka/opt/anaconda3/lib/python3.7/site-packages (from python-telegram-bot[socks]) (6.0.3)\n",
      "Requirement already satisfied: decorator>=4.4.0 in /Users/mashenka/opt/anaconda3/lib/python3.7/site-packages (from python-telegram-bot[socks]) (4.4.1)\n",
      "Requirement already satisfied: future>=0.16.0 in /Users/mashenka/opt/anaconda3/lib/python3.7/site-packages (from python-telegram-bot[socks]) (0.18.2)\n",
      "Requirement already satisfied: certifi in /Users/mashenka/opt/anaconda3/lib/python3.7/site-packages (from python-telegram-bot[socks]) (2019.11.28)\n",
      "Requirement already satisfied: PySocks; extra == \"socks\" in /Users/mashenka/opt/anaconda3/lib/python3.7/site-packages (from python-telegram-bot[socks]) (1.7.1)\n",
      "Requirement already satisfied: cffi!=1.11.3,>=1.8 in /Users/mashenka/opt/anaconda3/lib/python3.7/site-packages (from cryptography->python-telegram-bot[socks]) (1.14.0)\n",
      "Requirement already satisfied: six>=1.4.1 in /Users/mashenka/opt/anaconda3/lib/python3.7/site-packages (from cryptography->python-telegram-bot[socks]) (1.14.0)\n",
      "Requirement already satisfied: pycparser in /Users/mashenka/opt/anaconda3/lib/python3.7/site-packages (from cffi!=1.11.3,>=1.8->cryptography->python-telegram-bot[socks]) (2.19)\n"
     ]
    }
   ],
   "source": []
  },
  {
   "cell_type": "code",
   "execution_count": null,
   "metadata": {},
   "outputs": [],
   "source": []
  }
 ],
 "metadata": {
  "kernelspec": {
   "display_name": "Python 3",
   "language": "python",
   "name": "python3"
  },
  "language_info": {
   "codemirror_mode": {
    "name": "ipython",
    "version": 3
   },
   "file_extension": ".py",
   "mimetype": "text/x-python",
   "name": "python",
   "nbconvert_exporter": "python",
   "pygments_lexer": "ipython3",
   "version": "3.7.6"
  }
 },
 "nbformat": 4,
 "nbformat_minor": 2
}
