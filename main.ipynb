{
 "cells": [
  {
   "cell_type": "code",
   "execution_count": 15,
   "metadata": {},
   "outputs": [
    {
     "name": "stdout",
     "output_type": "stream",
     "text": [
      "Requirement already satisfied: requests in /Users/mashenka/opt/anaconda3/lib/python3.7/site-packages (2.22.0)\r\n",
      "Requirement already satisfied: chardet<3.1.0,>=3.0.2 in /Users/mashenka/opt/anaconda3/lib/python3.7/site-packages (from requests) (3.0.4)\r\n",
      "Requirement already satisfied: certifi>=2017.4.17 in /Users/mashenka/opt/anaconda3/lib/python3.7/site-packages (from requests) (2019.11.28)\r\n",
      "Requirement already satisfied: idna<2.9,>=2.5 in /Users/mashenka/opt/anaconda3/lib/python3.7/site-packages (from requests) (2.8)\r\n",
      "Requirement already satisfied: urllib3!=1.25.0,!=1.25.1,<1.26,>=1.21.1 in /Users/mashenka/opt/anaconda3/lib/python3.7/site-packages (from requests) (1.25.8)\r\n"
     ]
    }
   ],
   "source": [
    "!pip install requests"
   ]
  },
  {
   "cell_type": "code",
   "execution_count": null,
   "metadata": {},
   "outputs": [],
   "source": []
  },
  {
   "cell_type": "code",
   "execution_count": null,
   "metadata": {},
   "outputs": [],
   "source": []
  },
  {
   "cell_type": "code",
   "execution_count": 86,
   "metadata": {
    "collapsed": true
   },
   "outputs": [
    {
     "name": "stdout",
     "output_type": "stream",
     "text": [
      "Requirement already satisfied: pyTelegramBotAPI in /Users/mashenka/opt/anaconda3/lib/python3.7/site-packages (3.7.1)\n",
      "Requirement already satisfied: requests in /Users/mashenka/opt/anaconda3/lib/python3.7/site-packages (from pyTelegramBotAPI) (2.22.0)\n",
      "Requirement already satisfied: six in /Users/mashenka/opt/anaconda3/lib/python3.7/site-packages (from pyTelegramBotAPI) (1.14.0)\n",
      "Requirement already satisfied: urllib3!=1.25.0,!=1.25.1,<1.26,>=1.21.1 in /Users/mashenka/opt/anaconda3/lib/python3.7/site-packages (from requests->pyTelegramBotAPI) (1.25.8)\n",
      "Requirement already satisfied: chardet<3.1.0,>=3.0.2 in /Users/mashenka/opt/anaconda3/lib/python3.7/site-packages (from requests->pyTelegramBotAPI) (3.0.4)\n",
      "Requirement already satisfied: certifi>=2017.4.17 in /Users/mashenka/opt/anaconda3/lib/python3.7/site-packages (from requests->pyTelegramBotAPI) (2019.11.28)\n",
      "Requirement already satisfied: idna<2.9,>=2.5 in /Users/mashenka/opt/anaconda3/lib/python3.7/site-packages (from requests->pyTelegramBotAPI) (2.8)\n"
     ]
    }
   ],
   "source": [
    "!pip install pyTelegramBotAPI"
   ]
  },
  {
   "cell_type": "code",
   "execution_count": 87,
   "metadata": {
    "collapsed": true
   },
   "outputs": [
    {
     "name": "stdout",
     "output_type": "stream",
     "text": [
      "Requirement already satisfied: python-telegram-bot[socks] in /Users/mashenka/opt/anaconda3/lib/python3.7/site-packages (12.7)\n",
      "Requirement already satisfied: certifi in /Users/mashenka/opt/anaconda3/lib/python3.7/site-packages (from python-telegram-bot[socks]) (2019.11.28)\n",
      "Requirement already satisfied: tornado>=5.1 in /Users/mashenka/opt/anaconda3/lib/python3.7/site-packages (from python-telegram-bot[socks]) (6.0.3)\n",
      "Requirement already satisfied: cryptography in /Users/mashenka/opt/anaconda3/lib/python3.7/site-packages (from python-telegram-bot[socks]) (2.8)\n",
      "Requirement already satisfied: future>=0.16.0 in /Users/mashenka/opt/anaconda3/lib/python3.7/site-packages (from python-telegram-bot[socks]) (0.18.2)\n",
      "Requirement already satisfied: decorator>=4.4.0 in /Users/mashenka/opt/anaconda3/lib/python3.7/site-packages (from python-telegram-bot[socks]) (4.4.1)\n",
      "Requirement already satisfied: PySocks; extra == \"socks\" in /Users/mashenka/opt/anaconda3/lib/python3.7/site-packages (from python-telegram-bot[socks]) (1.7.1)\n",
      "Requirement already satisfied: six>=1.4.1 in /Users/mashenka/opt/anaconda3/lib/python3.7/site-packages (from cryptography->python-telegram-bot[socks]) (1.14.0)\n",
      "Requirement already satisfied: cffi!=1.11.3,>=1.8 in /Users/mashenka/opt/anaconda3/lib/python3.7/site-packages (from cryptography->python-telegram-bot[socks]) (1.14.0)\n",
      "Requirement already satisfied: pycparser in /Users/mashenka/opt/anaconda3/lib/python3.7/site-packages (from cffi!=1.11.3,>=1.8->cryptography->python-telegram-bot[socks]) (2.19)\n"
     ]
    }
   ],
   "source": [
    "!pip install python-telegram-bot[socks]"
   ]
  },
  {
   "cell_type": "code",
   "execution_count": 16,
   "metadata": {},
   "outputs": [
    {
     "name": "stdout",
     "output_type": "stream",
     "text": [
      "Requirement already satisfied: markovify in /Users/mashenka/opt/anaconda3/lib/python3.7/site-packages (0.8.0)\r\n",
      "Requirement already satisfied: unidecode in /Users/mashenka/opt/anaconda3/lib/python3.7/site-packages (from markovify) (1.1.1)\r\n"
     ]
    }
   ],
   "source": [
    "!pip install markovify"
   ]
  },
  {
   "cell_type": "code",
   "execution_count": 18,
   "metadata": {},
   "outputs": [
    {
     "data": {
      "text/plain": [
       "('ruscorpora_mystem_cbow_300_2_2015.bin.gz',\n",
       " <http.client.HTTPMessage at 0x7fea2121fc50>)"
      ]
     },
     "execution_count": 18,
     "metadata": {},
     "output_type": "execute_result"
    }
   ],
   "source": [
    "urllib.request.urlretrieve(\"http://rusvectores.org/static/models/rusvectores2/ruscorpora_mystem_cbow_300_2_2015.bin.gz\", \"ruscorpora_mystem_cbow_300_2_2015.bin.gz\")"
   ]
  },
  {
   "cell_type": "code",
   "execution_count": 19,
   "metadata": {},
   "outputs": [],
   "source": [
    "import pandas as pd"
   ]
  },
  {
   "cell_type": "code",
   "execution_count": 20,
   "metadata": {},
   "outputs": [],
   "source": [
    "import requests "
   ]
  },
  {
   "cell_type": "code",
   "execution_count": 21,
   "metadata": {},
   "outputs": [],
   "source": [
    "import markovify"
   ]
  },
  {
   "cell_type": "code",
   "execution_count": 22,
   "metadata": {},
   "outputs": [],
   "source": [
    "import random"
   ]
  },
  {
   "cell_type": "code",
   "execution_count": 23,
   "metadata": {},
   "outputs": [],
   "source": [
    "import urllib.request"
   ]
  },
  {
   "cell_type": "code",
   "execution_count": 284,
   "metadata": {},
   "outputs": [],
   "source": [
    "import json"
   ]
  },
  {
   "cell_type": "code",
   "execution_count": 285,
   "metadata": {},
   "outputs": [],
   "source": [
    "import csv"
   ]
  },
  {
   "cell_type": "code",
   "execution_count": 286,
   "metadata": {},
   "outputs": [],
   "source": [
    "from pprint import pprint"
   ]
  },
  {
   "cell_type": "code",
   "execution_count": 454,
   "metadata": {},
   "outputs": [],
   "source": [
    "import telebot  # импортируем модуль pyTelegramBotAPI\n",
    "import conf     # импортируем наш секретный токен\n",
    "\n",
    "telebot.apihelper.proxy = conf.PROXY\n",
    "bot = telebot.TeleBot(conf.TOKEN)  # создаем экземпляр бота"
   ]
  },
  {
   "cell_type": "code",
   "execution_count": null,
   "metadata": {},
   "outputs": [],
   "source": []
  },
  {
   "cell_type": "code",
   "execution_count": null,
   "metadata": {},
   "outputs": [],
   "source": []
  },
  {
   "cell_type": "code",
   "execution_count": 455,
   "metadata": {
    "scrolled": false
   },
   "outputs": [
    {
     "data": {
      "text/html": [
       "<div>\n",
       "<style scoped>\n",
       "    .dataframe tbody tr th:only-of-type {\n",
       "        vertical-align: middle;\n",
       "    }\n",
       "\n",
       "    .dataframe tbody tr th {\n",
       "        vertical-align: top;\n",
       "    }\n",
       "\n",
       "    .dataframe thead th {\n",
       "        text-align: right;\n",
       "    }\n",
       "</style>\n",
       "<table border=\"1\" class=\"dataframe\">\n",
       "  <thead>\n",
       "    <tr style=\"text-align: right;\">\n",
       "      <th></th>\n",
       "      <th>proverb</th>\n",
       "      <th>topic</th>\n",
       "    </tr>\n",
       "  </thead>\n",
       "  <tbody>\n",
       "    <tr>\n",
       "      <th>0</th>\n",
       "      <td>Жить — богу служить.</td>\n",
       "      <td>Бог — Вера</td>\n",
       "    </tr>\n",
       "    <tr>\n",
       "      <th>1</th>\n",
       "      <td>Кто велик, яко бог наш (Влад. Моном.).</td>\n",
       "      <td>Бог — Вера</td>\n",
       "    </tr>\n",
       "    <tr>\n",
       "      <th>2</th>\n",
       "      <td>Не нам, не нам, но имени твоему (т. е. слава).</td>\n",
       "      <td>Бог — Вера</td>\n",
       "    </tr>\n",
       "    <tr>\n",
       "      <th>3</th>\n",
       "      <td>Велико имя господне на земли.</td>\n",
       "      <td>Бог — Вера</td>\n",
       "    </tr>\n",
       "    <tr>\n",
       "      <th>4</th>\n",
       "      <td>В мале бог, и в велике бог.</td>\n",
       "      <td>Бог — Вера</td>\n",
       "    </tr>\n",
       "  </tbody>\n",
       "</table>\n",
       "</div>"
      ],
      "text/plain": [
       "                                          proverb       topic\n",
       "0                            Жить — богу служить.  Бог — Вера\n",
       "1          Кто велик, яко бог наш (Влад. Моном.).  Бог — Вера\n",
       "2  Не нам, не нам, но имени твоему (т. е. слава).  Бог — Вера\n",
       "3                   Велико имя господне на земли.  Бог — Вера\n",
       "4                     В мале бог, и в велике бог.  Бог — Вера"
      ]
     },
     "execution_count": 455,
     "metadata": {},
     "output_type": "execute_result"
    }
   ],
   "source": [
    "provs = pd.read_csv('dal_proverbs.csv', sep='\\t', encoding='utf-8')\n",
    "provs.head()"
   ]
  },
  {
   "cell_type": "code",
   "execution_count": 456,
   "metadata": {
    "scrolled": true
   },
   "outputs": [
    {
     "data": {
      "text/plain": [
       "'Где Макар побывал, семь лет рыба не ловится. (Они сымают  рыбную ловлю в речках и озерах и мастера вылавливать всю рыбу). Не я лгу, мошна лжет. Лежа кнута не добудешь (т. е. без вины). Кому веселье, а'"
      ]
     },
     "execution_count": 456,
     "metadata": {},
     "output_type": "execute_result"
    }
   ],
   "source": [
    "shuffled = provs.sample(frac=1)\n",
    "train = ' '.join(shuffled.proverb)\n",
    "train[:200]"
   ]
  },
  {
   "cell_type": "code",
   "execution_count": 457,
   "metadata": {},
   "outputs": [
    {
     "data": {
      "text/plain": [
       "'Подкузьмить кого (т. е. поддеть). Имя преподобного (в крещении) — к счастию младенца; имя  мученика '"
      ]
     },
     "execution_count": 457,
     "metadata": {},
     "output_type": "execute_result"
    }
   ],
   "source": [
    "shuffled = provs.sample(frac=1)\n",
    "train = ' '.join(shuffled.proverb)\n",
    "train[:100]"
   ]
  },
  {
   "cell_type": "code",
   "execution_count": 458,
   "metadata": {},
   "outputs": [],
   "source": [
    "m = markovify.Text(train)"
   ]
  },
  {
   "cell_type": "code",
   "execution_count": 459,
   "metadata": {},
   "outputs": [
    {
     "name": "stdout",
     "output_type": "stream",
     "text": [
      "Чьим умом живешь, того и другому не твори.\n",
      "Воин врагов побивает, а счастливый подбирает.\n",
      "От горя не размыкаешь.\n",
      "Старое стареется, а молодой — играть.\n",
      "Бредет и зауряд в рекруты идет.\n"
     ]
    }
   ],
   "source": [
    "for i in range(5):\n",
    "    print(m.make_short_sentence(max_chars=100))"
   ]
  },
  {
   "cell_type": "code",
   "execution_count": 460,
   "metadata": {
    "scrolled": true
   },
   "outputs": [
    {
     "name": "stdout",
     "output_type": "stream",
     "text": [
      "Что откусишь, то и выпьешь.\n"
     ]
    }
   ],
   "source": [
    "print(m.make_short_sentence(100))"
   ]
  },
  {
   "cell_type": "code",
   "execution_count": 461,
   "metadata": {},
   "outputs": [],
   "source": [
    "city_data = {\"А\" : []}"
   ]
  },
  {
   "cell_type": "code",
   "execution_count": 462,
   "metadata": {},
   "outputs": [],
   "source": [
    "for i in cities[\"city\"]:\n",
    "    name = i['name']\n",
    "    city_data[name[0]] = []"
   ]
  },
  {
   "cell_type": "code",
   "execution_count": 463,
   "metadata": {},
   "outputs": [],
   "source": [
    "for i in cities[\"city\"]:\n",
    "    name = i['name']\n",
    "    city_data[name[0]].append(name)"
   ]
  },
  {
   "cell_type": "code",
   "execution_count": 464,
   "metadata": {},
   "outputs": [],
   "source": [
    "with open(\"/Users/mashenka/Documents/TG_Bot/cities.json\") as file:\n",
    "    cities = json.load(file)"
   ]
  },
  {
   "cell_type": "code",
   "execution_count": 465,
   "metadata": {},
   "outputs": [
    {
     "name": "stdout",
     "output_type": "stream",
     "text": [
      "Балларат\n"
     ]
    }
   ],
   "source": [
    "print(cities[\"city\"][0]['name'])"
   ]
  },
  {
   "cell_type": "code",
   "execution_count": 466,
   "metadata": {},
   "outputs": [],
   "source": [
    "#Загружаем и редактируем данные"
   ]
  },
  {
   "cell_type": "code",
   "execution_count": 467,
   "metadata": {},
   "outputs": [],
   "source": [
    "with open('Nil_Geyman_texty.txt') as f:\n",
    "    geyman_file = f.read().split('.')\n"
   ]
  },
  {
   "cell_type": "code",
   "execution_count": 468,
   "metadata": {},
   "outputs": [],
   "source": [
    "for i in geyman_file:\n",
    "    if i != '':\n",
    "        if not i[0].isalpha():\n",
    "            geyman_file.pop(i.index(i))\n",
    "    else:\n",
    "        geyman_file.pop(i.index(i))"
   ]
  },
  {
   "cell_type": "code",
   "execution_count": 469,
   "metadata": {},
   "outputs": [],
   "source": [
    "data_users = {}\n",
    "data_users_cities = {}"
   ]
  },
  {
   "cell_type": "code",
   "execution_count": 470,
   "metadata": {},
   "outputs": [],
   "source": [
    "telebot.apihelper.proxy = conf.PROXY\n",
    "bot = telebot.TeleBot(conf.TOKEN)  # создаем экземпляр бота"
   ]
  },
  {
   "cell_type": "code",
   "execution_count": 471,
   "metadata": {},
   "outputs": [],
   "source": [
    "in_game = 0\n",
    "car_or_person = 0\n",
    "send_message_computer_or_person = 0\n"
   ]
  },
  {
   "cell_type": "code",
   "execution_count": 472,
   "metadata": {},
   "outputs": [],
   "source": [
    "\n",
    "\n",
    "\n",
    "\n",
    "# этот обработчик запускает функцию send_welcome, когда пользователь отправляет команды /start или /help\n",
    "@bot.message_handler(commands=['start'])\n",
    "def send_welcome(message):\n",
    "    global data_users\n",
    "    global data_users_cities\n",
    "    global city_data\n",
    "    data_users_cities[message.chat.id] = city_data\n",
    "    data_users[message.chat.id] = 0\n",
    "    bot.send_message(message.chat.id, \"Здравствуйте! Хотите поиграть?\")\n",
    "    bot.send_message(message.chat.id, \"/yes /no\")\n",
    "    "
   ]
  },
  {
   "cell_type": "code",
   "execution_count": 473,
   "metadata": {},
   "outputs": [],
   "source": [
    "\n",
    "\n",
    "@bot.message_handler(commands=['help'])\n",
    "def send_welcome(message):\n",
    "    bot.send_message(message.chat.id, \"Это бот с разными играми? Хотите поиграть? \\n Нажмите /start или /play\")"
   ]
  },
  {
   "cell_type": "code",
   "execution_count": 474,
   "metadata": {},
   "outputs": [],
   "source": [
    "@bot.message_handler(commands=['yes', 'play'])\n",
    "def games_message(message):\n",
    "    global data_users\n",
    "    in_game = data_users[message.chat.id]\n",
    "    if in_game == 0:\n",
    "        bot.send_message(message.chat.id, \"Выберите игру: \\n /goroda \\n /ugaday_mashina_ili_chelovek\")\n",
    "        data_users[message.chat.id] = 1\n",
    "    else:\n",
    "        \n",
    "        bot.send_message(message.chat.id, \"Вы уже играете\")"
   ]
  },
  {
   "cell_type": "code",
   "execution_count": 475,
   "metadata": {},
   "outputs": [],
   "source": [
    "@bot.message_handler(commands=['no'])\n",
    "def games_message(message):\n",
    "    global data_users\n",
    "    in_game = data_users[message.chat.id]\n",
    "    if in_game == 0:\n",
    "        bot.send_message(message.chat.id, \"Вы больше не играете :(\")\n",
    "    else:\n",
    "        data_users[message.chat.id] = 0\n",
    "    bot.send_message(message.chat.id, \"Вот вам картинка \")\n",
    "    contents = requests.get('https://random.dog/woof.json').json()\n",
    "    url = contents['url']\n",
    "    bot.send_photo(chat_id=message.chat.id, photo=url)\n",
    "    bot.send_message(message.chat.id, \"Хотите поиграть? \\n /yes /no\")"
   ]
  },
  {
   "cell_type": "code",
   "execution_count": 476,
   "metadata": {},
   "outputs": [],
   "source": [
    "@bot.message_handler(commands=['ugaday_mashina_ili_chelovek'])\n",
    "def game_guess_car_or_person(message):\n",
    "    global data_users\n",
    "    global geyman_file\n",
    "    in_game = data_users[message.chat.id]\n",
    "    if in_game == 0:\n",
    "        bot.send_message(message.chat.id, \"Вы не играете в игру\")\n",
    "    else:\n",
    "        bot.send_message(message.chat.id, \"Угадай, кто автор предложения: машина или Гейман?\")\n",
    "        choose = random.randint(1, 2)\n",
    "        if choose == 1: #1 - это значит мы выводим предложение Геймана\n",
    "            random_sentence = random.randint(0, len(geyman_file))\n",
    "            bot.send_message(message.chat.id, geyman_file[random_sentence])\n",
    "            \n",
    "        else: #выводим сообщение машины\n",
    "            bot.send_message(message.chat.id, m.make_short_sentence(100))\n",
    "        bot.send_message(message.chat.id, \"/mashina /Geyman\")\n",
    "    \n",
    "        global mashina_ili_chelovek\n",
    "        global send_message_computer_or_person\n",
    "        send_message_computer_or_person = 1\n",
    "        mashina_ili_chelovek = choose\n"
   ]
  },
  {
   "cell_type": "code",
   "execution_count": 477,
   "metadata": {},
   "outputs": [],
   "source": [
    "@bot.message_handler(commands=['mashina'])\n",
    "def game_guess_car_or_person_answer_car(message):\n",
    "    global mashina_ili_chelovek\n",
    "    global data_users\n",
    "    in_game = data_users[message.chat.id]\n",
    "    if send_message_computer_or_person == 1:\n",
    "        choice = mashina_ili_chelovek\n",
    "        if choice == 1:\n",
    "            bot.send_message(message.chat.id, \"Вы не угадали(\")\n",
    "        else:\n",
    "            bot.send_message(message.chat.id, \"Ура!Вы угадали!\")\n",
    "        data_users[message.chat.id] = 0\n",
    "        bot.send_message(message.chat.id, \"Хотите сыграть еще раз? \\n /yes /no\")\n",
    "        \n",
    "    else:\n",
    "        bot.send_message(message.chat.id, \"Вы не играете в игру\")\n",
    "        "
   ]
  },
  {
   "cell_type": "code",
   "execution_count": 478,
   "metadata": {},
   "outputs": [],
   "source": [
    "@bot.message_handler(commands=['Geyman'])\n",
    "def game_guess_car_or_person_answer_person(message):\n",
    "    global mashina_ili_chelovek\n",
    "    global data_users\n",
    "    in_game = data_users[message.chat.id]\n",
    "    if send_message_computer_or_person == 1:\n",
    "        choice = mashina_ili_chelovek\n",
    "        if choice == 2:\n",
    "            bot.send_message(message.chat.id, \"Вы не угадали(\")\n",
    "        else:\n",
    "            bot.send_message(message.chat.id, \"Ура!Вы угадали!\")\n",
    "        data_users[message.chat.id] = 0\n",
    "        bot.send_message(message.chat.id, \"Хотите сыграть еще раз? \\n /yes /no\")\n",
    "    else:\n",
    "        bot.send_message(message.chat.id, \"Вы не играете в игру\")\n",
    "    "
   ]
  },
  {
   "cell_type": "code",
   "execution_count": 479,
   "metadata": {},
   "outputs": [],
   "source": [
    "@bot.message_handler(commands=['goroda'])\n",
    "def game_cows_and_bulls(message):\n",
    "    global data_users\n",
    "    in_game = data_users[message.chat.id]\n",
    "    if in_game == 0:\n",
    "        bot.send_message(message.chat.id, \"Вы не играете в игру\")\n",
    "    else:\n",
    "        data_users[message.chat.id] = 2\n",
    "        bot.send_message(message.chat.id, 'Напишите город с большой буквы')\n",
    "        bot.send_message(message.chat.id, 'Если захотите закончить, напишите стоп')\n",
    "        \n",
    "        "
   ]
  },
  {
   "cell_type": "code",
   "execution_count": null,
   "metadata": {},
   "outputs": [],
   "source": []
  },
  {
   "cell_type": "code",
   "execution_count": 480,
   "metadata": {},
   "outputs": [],
   "source": [
    "@bot.message_handler(func=lambda m: True)\n",
    "def send_len(message):\n",
    "    global data_users\n",
    "    global data_users_cities\n",
    "    global city_data\n",
    "    user_city_data = data_users_cities[message.chat.id]\n",
    "    in_game = data_users[message.chat.id]\n",
    "    \n",
    "    if in_game == 0:\n",
    "        bot.send_message(message.chat.id, \"Здравствуйте! Я еще не умею общаться(( Хотите сыграть в игру?\\n/yes /no\")\n",
    "        \n",
    "        \n",
    "    elif in_game == 2:\n",
    "        \n",
    "        user_city = str(message.text)\n",
    "        \n",
    "        if str(message.text) == 'стоп':\n",
    "            data_users[message.chat.id] = 0\n",
    "            bot.send_message(message.chat.id, 'Спасибо за игру')\n",
    "            bot.send_message(message.chat.id, 'Хотите сыграть еще раз? /yes /no')\n",
    "            data_users_cities[message.chat.id] = city_data\n",
    " \n",
    "            \n",
    "        else:\n",
    "            if (user_city[0] in user_city_data) and (user_city in user_city_data[user_city[0]]):\n",
    "                random_city = 0\n",
    "                number = user_city_data[user_city[0]].index(user_city)\n",
    "                \n",
    "                user_city_data[number] = ''\n",
    "                letter_for_computer_city = (user_city[len(user_city)-1]).upper()\n",
    "                \n",
    "                while user_city_data[letter_for_computer_city][random_city] == '':\n",
    "                    random_city = random.randint(0, len(user_city_data[letter_for_computer_city])-1)\n",
    "                \n",
    "                bot.send_message(message.chat.id, user_city_data[letter_for_computer_city][random_city])\n",
    "                user_city_data[letter_for_computer_city][random_city] = 1\n",
    "                data_users_cities[message.chat.id] = user_city_data\n",
    "                \n",
    "            else:\n",
    "                bot.send_message(message.chat.id, 'Вы ввели не город или ввели с маленькой буквы, попробуйте еще раз')\n",
    "            \n",
    "            bot.send_message(message.chat.id, 'Если захотите закончить, напишите стоп')\n",
    "            \n",
    "            \n",
    "            \n",
    "    elif in_game == 1:\n",
    "        if str(message.text) == 'стоп':\n",
    "            data_users[message.chat.id] = 0\n",
    "            bot.send_message(message.chat.id, 'Спасибо за игру')\n",
    "            bot.send_message(message.chat.id, 'Хотите сыграть еще раз? /yes /no')\n",
    "            "
   ]
  },
  {
   "cell_type": "code",
   "execution_count": null,
   "metadata": {},
   "outputs": [],
   "source": []
  },
  {
   "cell_type": "code",
   "execution_count": 481,
   "metadata": {},
   "outputs": [],
   "source": [
    "bot.polling(none_stop=True)"
   ]
  },
  {
   "cell_type": "code",
   "execution_count": null,
   "metadata": {},
   "outputs": [],
   "source": []
  },
  {
   "cell_type": "code",
   "execution_count": 6,
   "metadata": {
    "collapsed": true
   },
   "outputs": [
    {
     "name": "stdout",
     "output_type": "stream",
     "text": [
      "Requirement already satisfied: python-telegram-bot[socks] in /Users/mashenka/opt/anaconda3/lib/python3.7/site-packages (12.7)\n",
      "Requirement already satisfied: cryptography in /Users/mashenka/opt/anaconda3/lib/python3.7/site-packages (from python-telegram-bot[socks]) (2.8)\n",
      "Requirement already satisfied: tornado>=5.1 in /Users/mashenka/opt/anaconda3/lib/python3.7/site-packages (from python-telegram-bot[socks]) (6.0.3)\n",
      "Requirement already satisfied: decorator>=4.4.0 in /Users/mashenka/opt/anaconda3/lib/python3.7/site-packages (from python-telegram-bot[socks]) (4.4.1)\n",
      "Requirement already satisfied: future>=0.16.0 in /Users/mashenka/opt/anaconda3/lib/python3.7/site-packages (from python-telegram-bot[socks]) (0.18.2)\n",
      "Requirement already satisfied: certifi in /Users/mashenka/opt/anaconda3/lib/python3.7/site-packages (from python-telegram-bot[socks]) (2019.11.28)\n",
      "Requirement already satisfied: PySocks; extra == \"socks\" in /Users/mashenka/opt/anaconda3/lib/python3.7/site-packages (from python-telegram-bot[socks]) (1.7.1)\n",
      "Requirement already satisfied: cffi!=1.11.3,>=1.8 in /Users/mashenka/opt/anaconda3/lib/python3.7/site-packages (from cryptography->python-telegram-bot[socks]) (1.14.0)\n",
      "Requirement already satisfied: six>=1.4.1 in /Users/mashenka/opt/anaconda3/lib/python3.7/site-packages (from cryptography->python-telegram-bot[socks]) (1.14.0)\n",
      "Requirement already satisfied: pycparser in /Users/mashenka/opt/anaconda3/lib/python3.7/site-packages (from cffi!=1.11.3,>=1.8->cryptography->python-telegram-bot[socks]) (2.19)\n"
     ]
    }
   ],
   "source": []
  },
  {
   "cell_type": "code",
   "execution_count": null,
   "metadata": {},
   "outputs": [],
   "source": []
  }
 ],
 "metadata": {
  "kernelspec": {
   "display_name": "Python 3",
   "language": "python",
   "name": "python3"
  },
  "language_info": {
   "codemirror_mode": {
    "name": "ipython",
    "version": 3
   },
   "file_extension": ".py",
   "mimetype": "text/x-python",
   "name": "python",
   "nbconvert_exporter": "python",
   "pygments_lexer": "ipython3",
   "version": "3.7.6"
  }
 },
 "nbformat": 4,
 "nbformat_minor": 2
}
